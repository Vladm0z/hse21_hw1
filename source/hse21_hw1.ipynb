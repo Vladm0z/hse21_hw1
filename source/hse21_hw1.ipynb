{
 "cells": [
  {
   "cell_type": "code",
   "execution_count": 11,
   "id": "affe3b68",
   "metadata": {},
   "outputs": [],
   "source": [
    "import re"
   ]
  },
  {
   "cell_type": "code",
   "execution_count": 48,
   "id": "0db58179",
   "metadata": {
    "scrolled": true
   },
   "outputs": [],
   "source": [
    "def get_info(f, text, output = True):\n",
    "    lengths = []\n",
    "    total_len = 0\n",
    "    num = 0\n",
    "    max_len = 0\n",
    "    length = 0\n",
    "    score = 0\n",
    "    max_sequence = ''\n",
    "    curr_sequence = ''\n",
    "    for line in f:\n",
    "        if (line[0] == '>'):\n",
    "            if num != 0:\n",
    "                lengths.append(length)\n",
    "            num += 1\n",
    "            if length >= max_len:\n",
    "                max_len = length\n",
    "                max_sequence = curr_sequence\n",
    "            curr_sequence = ''\n",
    "            length = 0\n",
    "        else:\n",
    "            curr_sequence += line.strip()\n",
    "            length += len(line.strip())\n",
    "            total_len += len(line.strip())\n",
    "     \n",
    "    lengths.sort(reverse = True) \n",
    "    for i in lengths:\n",
    "        score += i\n",
    "        if score >= total_len / 2:\n",
    "            if output == True:\n",
    "                print(f'Анализ {text}\\n\\\n",
    "Общее количество: {num},\\n\\\n",
    "Общая длина: {total_len},\\n\\\n",
    "Длина самого длинного: {max_len},\\n\\\n",
    "N50: {i}\\n')\n",
    "            break\n",
    "    return max_sequence"
   ]
  },
  {
   "cell_type": "markdown",
   "id": "9bf7b2e7",
   "metadata": {},
   "source": [
    "Platanus assemble"
   ]
  },
  {
   "cell_type": "code",
   "execution_count": 49,
   "id": "32ad5a8a",
   "metadata": {},
   "outputs": [
    {
     "name": "stdout",
     "output_type": "stream",
     "text": [
      "Анализ Контигов\n",
      "Общее количество: 614,\n",
      "Общая длина: 3925550,\n",
      "Длина самого длинного: 179307,\n",
      "N50: 55043\n",
      "\n"
     ]
    }
   ],
   "source": [
    "max_cont = get_info(open('Poil_contig.fa', 'r'), 'Контигов')"
   ]
  },
  {
   "cell_type": "markdown",
   "id": "fedd94c9",
   "metadata": {},
   "source": [
    "Platanus scaffold"
   ]
  },
  {
   "cell_type": "code",
   "execution_count": 63,
   "id": "8ce20c37",
   "metadata": {},
   "outputs": [
    {
     "name": "stdout",
     "output_type": "stream",
     "text": [
      "Анализ Скаффолдов\n",
      "Общее количество: 73,\n",
      "Общая длина: 3876007,\n",
      "Длина самого длинного: 3831713,\n",
      "N50: 3831713\n",
      "\n"
     ]
    }
   ],
   "source": [
    "max_scaf = get_info(open('Poil_scaffold.fa', 'r'), 'Скаффолдов')"
   ]
  },
  {
   "cell_type": "code",
   "execution_count": 64,
   "id": "20fabf84",
   "metadata": {},
   "outputs": [
    {
     "name": "stdout",
     "output_type": "stream",
     "text": [
      "Общая длина гэпов: 6135\n",
      "Число гэпов: 63\n"
     ]
    }
   ],
   "source": [
    "print(f'Общая длина гэпов: {max_scaf.count(\"N\")}')\n",
    "max_scaf = re.sub(r'N{2,}', 'N', max_scaf)\n",
    "print(f'Число гэпов: {max_scaf.count(\"N\")}')"
   ]
  },
  {
   "cell_type": "code",
   "execution_count": 65,
   "id": "6271f488",
   "metadata": {},
   "outputs": [],
   "source": [
    "max_scaf = get_info(open('Poil_gapClosed.fa', 'r'), 'Скаффолдов', False)"
   ]
  },
  {
   "cell_type": "code",
   "execution_count": 67,
   "id": "b5094b89",
   "metadata": {},
   "outputs": [
    {
     "name": "stdout",
     "output_type": "stream",
     "text": [
      "Общая длина гэпов: 1284\n",
      "Число гэпов: 7\n"
     ]
    }
   ],
   "source": [
    "print(f'Общая длина гэпов для обрезанных чтений: {max_scaf.count(\"N\")}')\n",
    "max_scaf = re.sub(r'N{2,}', 'N', max_scaf)\n",
    "print(f'Число гэпов для обрезанных чтений: {max_scaf.count(\"N\")}')"
   ]
  }
 ],
 "metadata": {
  "kernelspec": {
   "display_name": "Python 3",
   "language": "python",
   "name": "python3"
  },
  "language_info": {
   "codemirror_mode": {
    "name": "ipython",
    "version": 3
   },
   "file_extension": ".py",
   "mimetype": "text/x-python",
   "name": "python",
   "nbconvert_exporter": "python",
   "pygments_lexer": "ipython3",
   "version": "3.8.8"
  }
 },
 "nbformat": 4,
 "nbformat_minor": 5
}
